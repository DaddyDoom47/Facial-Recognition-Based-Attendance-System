{
  "nbformat": 4,
  "nbformat_minor": 0,
  "metadata": {
    "colab": {
      "provenance": []
    },
    "kernelspec": {
      "name": "python3",
      "display_name": "Python 3"
    },
    "language_info": {
      "name": "python"
    }
  },
  "cells": [
    {
      "cell_type": "code",
      "source": [
        "import cv2  #imported necessary libraries \n",
        "import numpy as np\n",
        "import face_recognition\n",
        "import os\n",
        "from datetime import datetime\n",
        "path='C:\\\\Users\\\\gupta\\\\source\\\\repos\\\\Face_Recognition_Attendance\\\\TRAINING'# path where images are stored inside VS repos\n",
        "images=[]\n",
        "className=[]\n",
        "myList=os.listdir(path)\n",
        "print(myList)\n",
        "for cl in myList:\n",
        "    curImg=cv2.imread(f'{path}/{cl}')\n",
        "    images.append(curImg)\n",
        "    className.append(os.path.splitext(cl)[0])\n",
        "print(className)\n",
        "def faceEncodings(images):\n",
        "    encodeList = []\n",
        "    for img in images:\n",
        "        img=cv2.cvtColor(img,cv2.COLOR_BGR2RGB)\n",
        "        encode=face_recognition.face_encodings(img)[0]\n",
        "        encodeList.append(encode)\n",
        "    return encodeList\n",
        "\n",
        "encodeListKnown = faceEncodings(images)\n",
        "print('Encoding Complete')\n",
        "\n",
        "def attendance(name):\n",
        "\n",
        "    with open('attendance.csv','r+') as f:#attendance sheet name\n",
        "        myDataList =f.readlines()\n",
        "        nameList=[]\n",
        "        for line in myDataList:\n",
        "            entry = line.split(',')\n",
        "            nameList.append(entry[0])\n",
        "\n",
        "        if name not in nameList:\n",
        "            time_now =datetime.now()\n",
        "            tStr = time_now.strftime('%H:%M:%S')\n",
        "            dStr= time_now.strftime('%d/%m/%Y')\n",
        "            f.writelines(f'{name},{tStr},{dStr}')\n",
        "           \n",
        "\n",
        "cap=cv2.VideoCapture(0)\n",
        "\n",
        "while True:\n",
        "    success, img = cap.read()\n",
        "    imgS=cv2.resize(img,(0,0),None,0.25,0.25)\n",
        "    imgS =cv2.cvtColor(imgS,cv2.COLOR_BGR2RGB)\n",
        "    facesCurFrame = face_recognition.face_locations(imgS)\n",
        "    encodesCurFrame=face_recognition.face_encodings(imgS,facesCurFrame)\n",
        "\n",
        "    for encodeFace, faceLoc in zip(encodesCurFrame,facesCurFrame):\n",
        "        matches = face_recognition.compare_faces(encodeListKnown,encodeFace)\n",
        "        faceDis =face_recognition.face_distance(encodeListKnown,encodeFace)\n",
        "        print(faceDis)\n",
        "        matchIndex =np.argmin(faceDis)\n",
        "\n",
        "        if matches[matchIndex]:\n",
        "            name=className[matchIndex].upper()\n",
        "            \n",
        "            y1,x2,y2,x1 = faceLoc\n",
        "            y1,x2,y2,x1 =y1*4,x2*4,y2*4,x1*4\n",
        "            cv2.rectangle(img,(x1,y1),(x2,y2),(0,255,0),2)\n",
        "            cv2.rectangle(img,(x1,y2-35),(x2,y2),(0,255,0),cv2.FILLED)\n",
        "            cv2.putText(img, name,(x1+6,y2-6),cv2.FONT_HERSHEY_COMPLEX,1,(0,0,255),2)\n",
        "            attendance(name)\n",
        "    cv2.imshow(\"Camera\", img)\n",
        "    if cv2.waitKey(0) == 13:\n",
        "        break\n",
        "cap.release()\n",
        "cv2.destroyAllWindows()"
      ],
      "metadata": {
        "id": "eh9ebHrCzxb1"
      },
      "execution_count": null,
      "outputs": []
    }
  ]
}